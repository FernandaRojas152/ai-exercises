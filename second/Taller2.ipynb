{
  "nbformat": 4,
  "nbformat_minor": 0,
  "metadata": {
    "colab": {
      "name": "Taller2.ipynb",
      "provenance": [],
      "collapsed_sections": []
    },
    "kernelspec": {
      "name": "python3",
      "display_name": "Python 3"
    },
    "language_info": {
      "name": "python"
    }
  },
  "cells": [
    {
      "cell_type": "markdown",
      "metadata": {
        "id": "L_9TYwg8JbX2"
      },
      "source": [
        "Taller 2\n",
        "\n",
        "__Integrantes:__\n",
        "\n",
        "+ Nombre: Yimar Tamayo, Grupo: Miercoles 7pm\n",
        "+ Nombre: Luisa Quintero, Grupo: Miercoles 7pm\n",
        "+ Nombre: Manuel Balanta, Grupo: Miercoles 7pm"
      ]
    },
    {
      "cell_type": "markdown",
      "metadata": {
        "id": "IHvq3lItu5fW"
      },
      "source": [
        "# Unidad 1"
      ]
    },
    {
      "cell_type": "code",
      "metadata": {
        "colab": {
          "base_uri": "https://localhost:8080/"
        },
        "id": "4n5Y0AbEqk80",
        "outputId": "628482a1-aca1-405c-f085-54d415981cb5"
      },
      "source": [
        "from google.colab import drive\n",
        "drive.mount('/content/drive')"
      ],
      "execution_count": null,
      "outputs": [
        {
          "output_type": "stream",
          "name": "stdout",
          "text": [
            "Mounted at /content/drive\n"
          ]
        }
      ]
    },
    {
      "cell_type": "code",
      "metadata": {
        "id": "EyrunLXoLUcZ",
        "colab": {
          "base_uri": "https://localhost:8080/"
        },
        "outputId": "b935dce7-c266-4192-dd5c-6c516fc4b1af"
      },
      "source": [
        "pip install twython"
      ],
      "execution_count": null,
      "outputs": [
        {
          "output_type": "stream",
          "name": "stdout",
          "text": [
            "Collecting twython\n",
            "  Downloading twython-3.9.1-py3-none-any.whl (33 kB)\n",
            "Requirement already satisfied: requests>=2.1.0 in /usr/local/lib/python3.7/dist-packages (from twython) (2.23.0)\n",
            "Requirement already satisfied: requests-oauthlib>=0.4.0 in /usr/local/lib/python3.7/dist-packages (from twython) (1.3.0)\n",
            "Requirement already satisfied: idna<3,>=2.5 in /usr/local/lib/python3.7/dist-packages (from requests>=2.1.0->twython) (2.10)\n",
            "Requirement already satisfied: urllib3!=1.25.0,!=1.25.1,<1.26,>=1.21.1 in /usr/local/lib/python3.7/dist-packages (from requests>=2.1.0->twython) (1.24.3)\n",
            "Requirement already satisfied: certifi>=2017.4.17 in /usr/local/lib/python3.7/dist-packages (from requests>=2.1.0->twython) (2021.5.30)\n",
            "Requirement already satisfied: chardet<4,>=3.0.2 in /usr/local/lib/python3.7/dist-packages (from requests>=2.1.0->twython) (3.0.4)\n",
            "Requirement already satisfied: oauthlib>=3.0.0 in /usr/local/lib/python3.7/dist-packages (from requests-oauthlib>=0.4.0->twython) (3.1.1)\n",
            "Installing collected packages: twython\n",
            "Successfully installed twython-3.9.1\n"
          ]
        }
      ]
    },
    {
      "cell_type": "code",
      "metadata": {
        "id": "ep6NoQJBs436"
      },
      "source": [
        "import nltk"
      ],
      "execution_count": null,
      "outputs": []
    },
    {
      "cell_type": "code",
      "metadata": {
        "id": "iM9H8MqikmLw"
      },
      "source": [
        "import numpy as np"
      ],
      "execution_count": null,
      "outputs": []
    },
    {
      "cell_type": "code",
      "metadata": {
        "colab": {
          "base_uri": "https://localhost:8080/"
        },
        "id": "CuUhHKSRzRi3",
        "outputId": "9e14fb1a-e09c-4be6-f91e-4b2e5d093249"
      },
      "source": [
        "nltk.download('twitter_samples')"
      ],
      "execution_count": null,
      "outputs": [
        {
          "output_type": "stream",
          "name": "stdout",
          "text": [
            "[nltk_data] Downloading package twitter_samples to /root/nltk_data...\n",
            "[nltk_data]   Unzipping corpora/twitter_samples.zip.\n"
          ]
        },
        {
          "output_type": "execute_result",
          "data": {
            "text/plain": [
              "True"
            ]
          },
          "metadata": {},
          "execution_count": 7
        }
      ]
    },
    {
      "cell_type": "code",
      "metadata": {
        "colab": {
          "base_uri": "https://localhost:8080/"
        },
        "id": "eoyJo9altI38",
        "outputId": "c7ecf160-b0d4-44a0-eb63-8af48ff243c3"
      },
      "source": [
        "print(nltk.__version__)"
      ],
      "execution_count": null,
      "outputs": [
        {
          "output_type": "stream",
          "name": "stdout",
          "text": [
            "3.2.5\n"
          ]
        }
      ]
    },
    {
      "cell_type": "markdown",
      "metadata": {
        "id": "bN5oJqKKucZm"
      },
      "source": [
        "2. Imprimir los 100 primeros registros del train"
      ]
    },
    {
      "cell_type": "code",
      "metadata": {
        "id": "2EDAGqZUtKyX"
      },
      "source": [
        "from nltk.corpus import twitter_samples\n",
        "all_positive_tweets = twitter_samples.strings('positive_tweets.json')\n",
        "all_negative_tweets = twitter_samples.strings('negative_tweets.json')\n",
        "tweets = all_positive_tweets + all_negative_tweets ## Concatenate the lists. \n",
        "labels = np.append(np.ones((len(all_positive_tweets),1)), np.zeros((len(all_negative_tweets),1)), axis = 0)\n",
        " \n",
        "train_pos  = all_positive_tweets[:4000]\n",
        "train_neg  = all_negative_tweets[:4000]\n",
        " \n",
        "train_x = train_pos + train_neg "
      ],
      "execution_count": null,
      "outputs": []
    },
    {
      "cell_type": "code",
      "metadata": {
        "colab": {
          "base_uri": "https://localhost:8080/"
        },
        "id": "JzZbAE251Mr4",
        "outputId": "42098a15-dbab-4914-fa81-d66cefa73c53"
      },
      "source": [
        "for i in train_x[:100]:\n",
        "  print(i)"
      ],
      "execution_count": null,
      "outputs": [
        {
          "output_type": "stream",
          "name": "stdout",
          "text": [
            "#FollowFriday @France_Inte @PKuchly57 @Milipol_Paris for being top engaged members in my community this week :)\n",
            "@Lamb2ja Hey James! How odd :/ Please call our Contact Centre on 02392441234 and we will be able to assist you :) Many thanks!\n",
            "@DespiteOfficial we had a listen last night :) As You Bleed is an amazing track. When are you in Scotland?!\n",
            "@97sides CONGRATS :)\n",
            "yeaaaah yippppy!!!  my accnt verified rqst has succeed got a blue tick mark on my fb profile :) in 15 days\n",
            "@BhaktisBanter @PallaviRuhail This one is irresistible :)\n",
            "#FlipkartFashionFriday http://t.co/EbZ0L2VENM\n",
            "We don't like to keep our lovely customers waiting for long! We hope you enjoy! Happy Friday! - LWWF :) https://t.co/smyYriipxI\n",
            "@Impatientraider On second thought, there’s just not enough time for a DD :) But new shorts entering system. Sheep must be buying.\n",
            "Jgh , but we have to go to Bayan :D bye\n",
            "As an act of mischievousness, am calling the ETL layer of our in-house warehousing app Katamari.\n",
            "\n",
            "Well… as the name implies :p.\n",
            "#FollowFriday @wncer1 @Defense_gouv for being top influencers in my community this week :)\n",
            "Who Wouldn't Love These Big....Juicy....Selfies :) - http://t.co/QVzjgd1uFo http://t.co/oWBL11eQRY\n",
            "@Mish23615351  follow @jnlazts &amp; http://t.co/RCvcYYO0Iq follow u back :)\n",
            "@jjulieredburn Perfect, so you already know what's waiting for you :)\n",
            "Great new opportunity for junior triathletes aged 12 and 13 at the Gatorade series! Get your entries in :) http://t.co/of3DyOzML0\n",
            "Laying out a greetings card range for print today - love my job :-)\n",
            "Friend's lunch... yummmm :)\n",
            "#Nostalgia #TBS #KU.\n",
            "@RookieSenpai @arcadester it is the id conflict thanks for the help :D here's the screenshot of it working\n",
            "@oohdawg_ Hi liv :))\n",
            "Hello I need to know something can u fm me on Twitter?? — sure thing :) dm me x http://t.co/W6Dy130BV7\n",
            "#FollowFriday @MBandScott_ @Eric_FLE @pointsolutions3 for being top new followers in my community this week :)\n",
            "@rossbreadmore I've heard the Four Seasons is pretty dope. Penthouse, obvs #Gobigorgohome\n",
            "Have fun y'all :)\n",
            "@gculloty87 Yeah I suppose she was lol! Chat in a bit just off out x :))\n",
            "Hello :) Get Youth Job Opportunities follow &gt;&gt; @tolajobjobs @maphisa301\n",
            "💅🏽💋 - :)))) haven't seen you in years\n",
            "@Bosslogic @amellywood @CW_Arrow @ARROWwriters Thank you! :-)\n",
            "@johngutierrez1 hope the rest of your night goes by quickly... I am off to bed... got my music fix and now it is time to dream  :)\n",
            "Spiritual Ritual Festival (Népal)\n",
            "Beginning of Line-up :)\n",
            "It is left for the line-up (y)\n",
            "See more at:... http://t.co/QMNz62OEuc\n",
            "@ke7zum Hey Sarah! Send us an email at bitsy@bitdefender.com and we'll help you asap :)\n",
            "@izzkamilhalda lols. :D\n",
            "MY kik - hatessuce32429 #kik #kikme #lgbt #tinder #nsfw #akua #cumshot :) http://t.co/TnHJD36yzf\n",
            "@KalinWhite come to my house :)))))\n",
            "#nsn_supplements, Effective press release distribution with results! :) [link removed] #PressRelease #NewsDistribution\n",
            "Hi BAM ! @BarsAndMelody \n",
            "Can you follow my bestfriend @969Horan696 ? \n",
            "She loves you a lot :) \n",
            "See you in Warsaw &lt;3 \n",
            "Love you &lt;3 x46\n",
            "everyone watch the documentary Earthlings on YouTube :-)\n",
            "@jamiefigsxx  follow @jnlazts &amp; http://t.co/RCvcYYO0Iq follow u back :)\n",
            "#FollowFriday @MichelBauza @InvataOnline for being top supports in my community this week :)\n",
            "buuuuuuuut oh well :-)\n",
            "@leisuremarkltd @NoshandQuaff @aktarislam @keanebrands @HeritageSilver I am looking forward to visiting next week #letsgetmessy Jo :-)\n",
            "@sehunshinedaily if it makes u feel better i never have nor will see anyone in kpop in the flesh :D\n",
            "@Joyster2012 @CathStaincliffe Good for you, girl!! Best wishes :-)\n",
            "@_Kimimi A great enough reason to listen to one epic soundtrack. :D\n",
            "@AquaDesignGroup Thank you for the shout out. Have a great Friday :)\n",
            "I added a video to a @YouTube playlist http://t.co/yzpfsMxUq0 im back on twitch and today it going to be league :) - 1 / 4\n",
            "Would love to see you dear in #Jordan :) waiting you! @FIRDOZ  :) @VisitJordan @dannyprol\n",
            "@ABNORMAL_ANA92 oh, okay :D thanks!\n",
            "@sssniperwolf like how to fake gameplays ;) haha Im kidding, im kidding. You do good stuff :).\n",
            "@dennislami @Dicle_Aygur, yeah exactly :)\n",
            "Our new product line is in our #etsy shop now! Check it out :) http://t.co/h8exCTLQxg #boxroomcrafts\n",
            "@PeakYourMind I hope your vacation is going great! :D\n",
            "@groovinshawn they are rechargeable and it normally comes with a charger when u buy it :)\n",
            "#FollowFriday @France_Espana @reglisse_menthe @CCI_inter for being top engaged members in my community this week :)\n",
            "Well she's asleep and I have no one to talk to sooo someone text me :)\n",
            "@brynybrath @smallcappy Yes, I suppose. I bet he'll have a blue fit after hearing her speech today. Pity :-)\n",
            "Green gardens, midnight sun, beautiful canals dasvidaniya till next visit.:)\n",
            "@KeithRParsons are you scouting SG for a future WLAN pros conference here in Asia? :)\n",
            "@Cecilie_Hell @420evilangel @wazimotometal @durooooooo @spigranty Good for u, better change it to lollipop 🍭 :).\n",
            "We &lt;3 u Nez :) #AGNEZMO https://t.co/cGViMHSINz\n",
            "@LittleMix Follow me Please :)  This is my Big Dream :)\n",
            "@Elemaaan  oley be :D\n",
            "\"@CowokAddict: Mama is the only reason why I stand stronger up to now! :)\"\n",
            "@MacatangayApril  follow @jnlazts &amp; http://t.co/RCvcYYO0Iq follow u back :)\n",
            "@tk_kjk_kndr @boukendreamer OH MY GOD MISTY, MY BABY IS SO CUTE!!! :D\n",
            "@BhaktisBanter \n",
            "\n",
            "I love blue :)\n",
            "#FlipkartFashionFriday http://t.co/HnbinH35ES\n",
            "@CarcassDrop Woohoo! Can't wait :) Have you signed up yet, or still thinking about it? MKa\n",
            "i have liam access now :))\n",
            "@SyuhxdxTengku most welcome :)\n",
            "Stats for the day have arrived. 1 new follower and NO unfollowers :) via http://t.co/p6K6SiH58a.\n",
            "@sluttywife2 you shouldn't be surprised...you have an amazing figure :)\n",
            "#FollowFriday @murtishaw @aqui_fr @FRTechStartups for being top influencers in my community this week :)\n",
            "#HappyBirthdayEmilyBett @emilybett :) Wishing you all the best you beautiful,sweet,talented,amazing… https://t.co/humtC1tr3I\n",
            "2 plans for the day down the drain great :):\n",
            "@x123456789tine @5SOS_FAHUpdates gotta love timezones :p\n",
            "are your parents proud of you — lol, not in the least :D maybe sometimes they get happy because of my grades, al... http://t.co/bJjeGIOOGU\n",
            "Grande :)  https://t.co/gsaaxNpR8u\n",
            "Manila_bro has chosen to follow me on Twitter! http://t.co/lKXZWXN1fb. Thanks for the follow :)\n",
            "@syazwanzainal sure let me know when you're around..at this side of the world #eh u too take care :-)\n",
            "#FollowFriday @michae1green @superninjaalan @Doug_Laney for being top new followers in my community this week :)\n",
            "finally the fucking weekend :)\n",
            "REAL :)\n",
            "@LoLEsportspedia thanks :D\n",
            "Hi BAM ! @BarsAndMelody \n",
            "Can you follow my bestfriend @969Horan696 ? \n",
            "She loves you a lot :) \n",
            "See you in Warsaw &lt;3 \n",
            "Love you &lt;3 x45\n",
            "YES! I Joined #HushedCallWithFraydoe for a call &amp; gift from @_Fraydoe &lt;3 Gotta Get @HushedApp :D http://t.co/VaLVe8omdT\n",
            "@YasLarry yeahhh :)\n",
            "can I DM you &amp; make your night better :)))\n",
            "just joined the #HushedPinWithSammy Event :D Might get to Text with @SammyWilk for a day! Luv U @HushedApp http://t.co/kGfgawdHy9\n",
            "Would really appreciate it if you share this video around :) https://t.co/MhK3B3wOpQ\n",
            "Hello :) Get Youth Job Opportunities follow &gt;&gt; @tolajobjobs @xhebenkewu_9920\n",
            "@TomParker oh wow!! That is beautiful tom :)\n",
            "Love You @darlingIXHAI22 @SyreenAnne :)) https://t.co/wx7yRrE7sV\n",
            "I added a video to a @YouTube playlist http://t.co/HVVPhSYakA im back on twitch and today it going to be league :) - 1 / 3\n",
            "#FollowFriday @AmericanOGrain @PecomeP @APaulicand for being top supports in my community this week :)\n",
            "@ZaynZaynmalik30  follow @jnlazts &amp; http://t.co/RCvcYYO0Iq follow u back :)\n",
            "Gym Monday can't wait :). Likes\n",
            "@HarNiLiZaLouis Hey, here's your invite to join Scope as an influencer :)  http://t.co/rZgZtQ2fJT\n",
            "Those friends know themselves :)\n",
            "waiting for nudes :-)\n",
            "@JacobWhitesides go sleep u ! :)))))))))\n",
            "Stats for the day have arrived. 1 new follower and NO unfollowers :) via http://t.co/RB8pMNgMEo.\n",
            "My birthday is a week today! :D\n"
          ]
        }
      ]
    },
    {
      "cell_type": "code",
      "metadata": {
        "colab": {
          "base_uri": "https://localhost:8080/"
        },
        "id": "UkpV0rZ3z1lz",
        "outputId": "527f2708-1752-4b07-9181-82484a5a1442"
      },
      "source": [
        "print (train_x[0:100])"
      ],
      "execution_count": null,
      "outputs": [
        {
          "output_type": "stream",
          "name": "stdout",
          "text": [
            "['#FollowFriday @France_Inte @PKuchly57 @Milipol_Paris for being top engaged members in my community this week :)', '@Lamb2ja Hey James! How odd :/ Please call our Contact Centre on 02392441234 and we will be able to assist you :) Many thanks!', '@DespiteOfficial we had a listen last night :) As You Bleed is an amazing track. When are you in Scotland?!', '@97sides CONGRATS :)', 'yeaaaah yippppy!!!  my accnt verified rqst has succeed got a blue tick mark on my fb profile :) in 15 days', '@BhaktisBanter @PallaviRuhail This one is irresistible :)\\n#FlipkartFashionFriday http://t.co/EbZ0L2VENM', \"We don't like to keep our lovely customers waiting for long! We hope you enjoy! Happy Friday! - LWWF :) https://t.co/smyYriipxI\", '@Impatientraider On second thought, there’s just not enough time for a DD :) But new shorts entering system. Sheep must be buying.', 'Jgh , but we have to go to Bayan :D bye', 'As an act of mischievousness, am calling the ETL layer of our in-house warehousing app Katamari.\\n\\nWell… as the name implies :p.', '#FollowFriday @wncer1 @Defense_gouv for being top influencers in my community this week :)', \"Who Wouldn't Love These Big....Juicy....Selfies :) - http://t.co/QVzjgd1uFo http://t.co/oWBL11eQRY\", '@Mish23615351  follow @jnlazts &amp; http://t.co/RCvcYYO0Iq follow u back :)', \"@jjulieredburn Perfect, so you already know what's waiting for you :)\", 'Great new opportunity for junior triathletes aged 12 and 13 at the Gatorade series! Get your entries in :) http://t.co/of3DyOzML0', 'Laying out a greetings card range for print today - love my job :-)', \"Friend's lunch... yummmm :)\\n#Nostalgia #TBS #KU.\", \"@RookieSenpai @arcadester it is the id conflict thanks for the help :D here's the screenshot of it working\", '@oohdawg_ Hi liv :))', 'Hello I need to know something can u fm me on Twitter?? — sure thing :) dm me x http://t.co/W6Dy130BV7', '#FollowFriday @MBandScott_ @Eric_FLE @pointsolutions3 for being top new followers in my community this week :)', \"@rossbreadmore I've heard the Four Seasons is pretty dope. Penthouse, obvs #Gobigorgohome\\nHave fun y'all :)\", '@gculloty87 Yeah I suppose she was lol! Chat in a bit just off out x :))', 'Hello :) Get Youth Job Opportunities follow &gt;&gt; @tolajobjobs @maphisa301', \"💅🏽💋 - :)))) haven't seen you in years\", '@Bosslogic @amellywood @CW_Arrow @ARROWwriters Thank you! :-)', '@johngutierrez1 hope the rest of your night goes by quickly... I am off to bed... got my music fix and now it is time to dream  :)', 'Spiritual Ritual Festival (Népal)\\nBeginning of Line-up :)\\nIt is left for the line-up (y)\\nSee more at:... http://t.co/QMNz62OEuc', \"@ke7zum Hey Sarah! Send us an email at bitsy@bitdefender.com and we'll help you asap :)\", '@izzkamilhalda lols. :D', 'MY kik - hatessuce32429 #kik #kikme #lgbt #tinder #nsfw #akua #cumshot :) http://t.co/TnHJD36yzf', '@KalinWhite come to my house :)))))', '#nsn_supplements, Effective press release distribution with results! :) [link removed] #PressRelease #NewsDistribution', 'Hi BAM ! @BarsAndMelody \\nCan you follow my bestfriend @969Horan696 ? \\nShe loves you a lot :) \\nSee you in Warsaw &lt;3 \\nLove you &lt;3 x46', 'everyone watch the documentary Earthlings on YouTube :-)', '@jamiefigsxx  follow @jnlazts &amp; http://t.co/RCvcYYO0Iq follow u back :)', '#FollowFriday @MichelBauza @InvataOnline for being top supports in my community this week :)', 'buuuuuuuut oh well :-)', '@leisuremarkltd @NoshandQuaff @aktarislam @keanebrands @HeritageSilver I am looking forward to visiting next week #letsgetmessy Jo :-)', '@sehunshinedaily if it makes u feel better i never have nor will see anyone in kpop in the flesh :D', '@Joyster2012 @CathStaincliffe Good for you, girl!! Best wishes :-)', '@_Kimimi A great enough reason to listen to one epic soundtrack. :D', '@AquaDesignGroup Thank you for the shout out. Have a great Friday :)', 'I added a video to a @YouTube playlist http://t.co/yzpfsMxUq0 im back on twitch and today it going to be league :) - 1 / 4', 'Would love to see you dear in #Jordan :) waiting you! @FIRDOZ  :) @VisitJordan @dannyprol', '@ABNORMAL_ANA92 oh, okay :D thanks!', '@sssniperwolf like how to fake gameplays ;) haha Im kidding, im kidding. You do good stuff :).', '@dennislami @Dicle_Aygur, yeah exactly :)', 'Our new product line is in our #etsy shop now! Check it out :) http://t.co/h8exCTLQxg #boxroomcrafts', '@PeakYourMind I hope your vacation is going great! :D', '@groovinshawn they are rechargeable and it normally comes with a charger when u buy it :)', '#FollowFriday @France_Espana @reglisse_menthe @CCI_inter for being top engaged members in my community this week :)', \"Well she's asleep and I have no one to talk to sooo someone text me :)\", \"@brynybrath @smallcappy Yes, I suppose. I bet he'll have a blue fit after hearing her speech today. Pity :-)\", 'Green gardens, midnight sun, beautiful canals dasvidaniya till next visit.:)', '@KeithRParsons are you scouting SG for a future WLAN pros conference here in Asia? :)', '@Cecilie_Hell @420evilangel @wazimotometal @durooooooo @spigranty Good for u, better change it to lollipop 🍭 :).', 'We &lt;3 u Nez :) #AGNEZMO https://t.co/cGViMHSINz', '@LittleMix Follow me Please :)  This is my Big Dream :)', '@Elemaaan  oley be :D', '\"@CowokAddict: Mama is the only reason why I stand stronger up to now! :)\"', '@MacatangayApril  follow @jnlazts &amp; http://t.co/RCvcYYO0Iq follow u back :)', '@tk_kjk_kndr @boukendreamer OH MY GOD MISTY, MY BABY IS SO CUTE!!! :D', '@BhaktisBanter \\n\\nI love blue :)\\n#FlipkartFashionFriday http://t.co/HnbinH35ES', \"@CarcassDrop Woohoo! Can't wait :) Have you signed up yet, or still thinking about it? MKa\", 'i have liam access now :))', '@SyuhxdxTengku most welcome :)', 'Stats for the day have arrived. 1 new follower and NO unfollowers :) via http://t.co/p6K6SiH58a.', \"@sluttywife2 you shouldn't be surprised...you have an amazing figure :)\", '#FollowFriday @murtishaw @aqui_fr @FRTechStartups for being top influencers in my community this week :)', '#HappyBirthdayEmilyBett @emilybett :) Wishing you all the best you beautiful,sweet,talented,amazing… https://t.co/humtC1tr3I', '2 plans for the day down the drain great :):', '@x123456789tine @5SOS_FAHUpdates gotta love timezones :p', 'are your parents proud of you — lol, not in the least :D maybe sometimes they get happy because of my grades, al... http://t.co/bJjeGIOOGU', 'Grande :)  https://t.co/gsaaxNpR8u', 'Manila_bro has chosen to follow me on Twitter! http://t.co/lKXZWXN1fb. Thanks for the follow :)', \"@syazwanzainal sure let me know when you're around..at this side of the world #eh u too take care :-)\", '#FollowFriday @michae1green @superninjaalan @Doug_Laney for being top new followers in my community this week :)', 'finally the fucking weekend :)', 'REAL :)', '@LoLEsportspedia thanks :D', 'Hi BAM ! @BarsAndMelody \\nCan you follow my bestfriend @969Horan696 ? \\nShe loves you a lot :) \\nSee you in Warsaw &lt;3 \\nLove you &lt;3 x45', 'YES! I Joined #HushedCallWithFraydoe for a call &amp; gift from @_Fraydoe &lt;3 Gotta Get @HushedApp :D http://t.co/VaLVe8omdT', '@YasLarry yeahhh :)', 'can I DM you &amp; make your night better :)))', 'just joined the #HushedPinWithSammy Event :D Might get to Text with @SammyWilk for a day! Luv U @HushedApp http://t.co/kGfgawdHy9', 'Would really appreciate it if you share this video around :) https://t.co/MhK3B3wOpQ', 'Hello :) Get Youth Job Opportunities follow &gt;&gt; @tolajobjobs @xhebenkewu_9920', '@TomParker oh wow!! That is beautiful tom :)', 'Love You @darlingIXHAI22 @SyreenAnne :)) https://t.co/wx7yRrE7sV', 'I added a video to a @YouTube playlist http://t.co/HVVPhSYakA im back on twitch and today it going to be league :) - 1 / 3', '#FollowFriday @AmericanOGrain @PecomeP @APaulicand for being top supports in my community this week :)', '@ZaynZaynmalik30  follow @jnlazts &amp; http://t.co/RCvcYYO0Iq follow u back :)', \"Gym Monday can't wait :). Likes\", \"@HarNiLiZaLouis Hey, here's your invite to join Scope as an influencer :)  http://t.co/rZgZtQ2fJT\", 'Those friends know themselves :)', 'waiting for nudes :-)', '@JacobWhitesides go sleep u ! :)))))))))', 'Stats for the day have arrived. 1 new follower and NO unfollowers :) via http://t.co/RB8pMNgMEo.', 'My birthday is a week today! :D']\n"
          ]
        }
      ]
    },
    {
      "cell_type": "markdown",
      "metadata": {
        "id": "r46EAjLJu9hY"
      },
      "source": [
        "3. Libreria re"
      ]
    },
    {
      "cell_type": "markdown",
      "metadata": {
        "id": "KAQzouAznJbL"
      },
      "source": [
        "![image.png](data:image/png;base64,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)"
      ]
    },
    {
      "cell_type": "code",
      "metadata": {
        "colab": {
          "base_uri": "https://localhost:8080/"
        },
        "id": "Xrpv1H1ZtK7S",
        "outputId": "8f91cc62-7a99-4c8a-e3bc-1e39327f9335"
      },
      "source": [
        "import re \n",
        " \n",
        "tweet = all_positive_tweets[2277]\n",
        "tweet2= all_negative_tweets[1234]\n",
        "\n",
        "print('\\033[92m' + tweet)\n",
        "print('\\033[94m')\n",
        "\n",
        "tweet2 = re.sub(r'https?:\\/\\/.*[\\r\\n]*', '', tweet2)\n",
        "\n",
        "print(tweet2)\n",
        "\n",
        "tweet2 = re.sub(r'#', '', tweet2)\n",
        " \n",
        "print(tweet2)\n",
        "\n",
        "print(tweet2.lower())\n"
      ],
      "execution_count": null,
      "outputs": [
        {
          "output_type": "stream",
          "name": "stdout",
          "text": [
            "\u001b[92mMy beautiful sunflowers on a sunny Friday morning off :) #sunflowers #favourites #happy #Friday off… https://t.co/3tfYom0N1i\n",
            "\u001b[94m\n",
            "Looking for fun? KIK : slacke565 #kik #kikmeguys #blonde #kikchat #sexy #mpoints #kiksexting :( \n",
            "Looking for fun? KIK : slacke565 kik kikmeguys blonde kikchat sexy mpoints kiksexting :( \n",
            "looking for fun? kik : slacke565 kik kikmeguys blonde kikchat sexy mpoints kiksexting :( \n"
          ]
        }
      ]
    },
    {
      "cell_type": "markdown",
      "metadata": {
        "id": "EVv2ndKdkqE6"
      },
      "source": [
        "```\n",
        "tweet 2= re.sub(r'https?:\\/\\/.*[\\r\\n]*', '', tweet2)\n",
        "```\n",
        "\n",
        "\n",
        "Este primer re.sub coge del tweet 2 y le quita los https y la dirección que estos contengan.\n",
        "\n",
        "\n",
        "```\n",
        "tweet2 = re.sub(r'#', '', tweet2)\n",
        "```\n",
        "\n",
        "Este segundo re.sub coge el tweet y le quita los # que este posea.\n"
      ]
    },
    {
      "cell_type": "markdown",
      "metadata": {
        "id": "cDFkqmNf7nWM"
      },
      "source": [
        "# Unidad 2"
      ]
    },
    {
      "cell_type": "markdown",
      "metadata": {
        "id": "dress-trail"
      },
      "source": [
        "**Ejercicio 4.**\n",
        "\n",
        "\n",
        "$$Ro = \\begin{bmatrix} cos \\theta & -sin \\theta \\\\ sin \\theta & cos \\theta \\end{bmatrix}$$\n",
        "$$x = \\begin{bmatrix} 2 \\\\  2 \\end{bmatrix}$$\n",
        "\n",
        "Aplique la siguiente operación\n",
        " $$y = x \\cdot Ro$$"
      ]
    },
    {
      "cell_type": "code",
      "metadata": {
        "id": "mm1i-DsGk40T"
      },
      "source": [
        "x= np.array([[2,2]])"
      ],
      "execution_count": null,
      "outputs": []
    },
    {
      "cell_type": "code",
      "metadata": {
        "id": "comic-performer"
      },
      "source": [
        "angle = 100 * (np.pi / 180) # parametro para las funciones "
      ],
      "execution_count": null,
      "outputs": []
    },
    {
      "cell_type": "code",
      "metadata": {
        "id": "lunvrp5kk47e"
      },
      "source": [
        "Ro= np.array([[np.cos(angle), -(np.sin(angle))], [np.sin(angle), np.cos(angle)]])"
      ],
      "execution_count": null,
      "outputs": []
    },
    {
      "cell_type": "code",
      "metadata": {
        "colab": {
          "base_uri": "https://localhost:8080/"
        },
        "id": "MI1fQnEvk491",
        "outputId": "4d04c666-6013-4889-858a-45913a316d0d"
      },
      "source": [
        "x.dot(Ro)"
      ],
      "execution_count": null,
      "outputs": [
        {
          "output_type": "execute_result",
          "data": {
            "text/plain": [
              "array([[ 1.62231915, -2.31691186]])"
            ]
          },
          "metadata": {},
          "execution_count": 15
        }
      ]
    },
    {
      "cell_type": "markdown",
      "metadata": {
        "id": "atlantic-canadian"
      },
      "source": [
        "**Ejercicio 5.**\n",
        "\n",
        "Aplique la siguientes operaciones a `A`\n",
        "\n",
        "$$\\|\\mathrm{A}\\|_{F} \\equiv \\sqrt{\\sum_{i=1}^{m} \\sum_{j=1}^{n}\\left|a_{i j}\\right|^{2}}$$\n"
      ]
    },
    {
      "cell_type": "code",
      "metadata": {
        "id": "oKbsXpjq537M"
      },
      "source": [
        "A = np.array([[2, 2],[2, 2]])"
      ],
      "execution_count": null,
      "outputs": []
    },
    {
      "cell_type": "code",
      "metadata": {
        "id": "v98AiOQD54B6"
      },
      "source": [
        "n1= np.linalg.norm(A)"
      ],
      "execution_count": null,
      "outputs": []
    },
    {
      "cell_type": "code",
      "metadata": {
        "colab": {
          "base_uri": "https://localhost:8080/"
        },
        "id": "4P2eIWjbDd1q",
        "outputId": "abdea62c-6cb5-4f52-c740-d365917dca9e"
      },
      "source": [
        "print(n1)"
      ],
      "execution_count": null,
      "outputs": [
        {
          "output_type": "stream",
          "name": "stdout",
          "text": [
            "4.0\n"
          ]
        }
      ]
    },
    {
      "cell_type": "markdown",
      "metadata": {
        "id": "kMFlw6nUkcOG"
      },
      "source": [
        "# Unidad 3"
      ]
    },
    {
      "cell_type": "code",
      "metadata": {
        "id": "kf4CRnb2EDq_"
      },
      "source": [
        "from sklearn.datasets import load_digits\n",
        "import pylab as pl\n",
        "import sklearn"
      ],
      "execution_count": null,
      "outputs": []
    },
    {
      "cell_type": "code",
      "metadata": {
        "colab": {
          "base_uri": "https://localhost:8080/"
        },
        "id": "sQofZw69ene8",
        "outputId": "59426fc1-810c-443f-a19d-24d189a4dc0f"
      },
      "source": [
        "digits = load_digits()\n",
        "type(digits)"
      ],
      "execution_count": null,
      "outputs": [
        {
          "output_type": "execute_result",
          "data": {
            "text/plain": [
              "sklearn.utils.Bunch"
            ]
          },
          "metadata": {},
          "execution_count": 2
        }
      ]
    },
    {
      "cell_type": "code",
      "metadata": {
        "colab": {
          "base_uri": "https://localhost:8080/"
        },
        "id": "SNfI0H0uesjd",
        "outputId": "8f174a4e-9ff4-4a5c-8409-02f0c2afb6cc"
      },
      "source": [
        "digits.keys()"
      ],
      "execution_count": null,
      "outputs": [
        {
          "output_type": "execute_result",
          "data": {
            "text/plain": [
              "dict_keys(['data', 'target', 'target_names', 'images', 'DESCR'])"
            ]
          },
          "metadata": {},
          "execution_count": 3
        }
      ]
    },
    {
      "cell_type": "code",
      "metadata": {
        "colab": {
          "base_uri": "https://localhost:8080/",
          "height": 479
        },
        "id": "zFlX705Vesa-",
        "outputId": "380ff1c8-dc5b-4f41-ca3c-f63bedcf685a"
      },
      "source": [
        "pl.gray() # Queremos las imágenes en grises\n",
        "pl.matshow(digits.images[152]) # Imprimir una imagen dada en un indice\n",
        "numImagenes = len(digits.images) # Numero de imagenes, len es un método que provee el tamaño del arreglo\n",
        "print()\n",
        "print(\"Se tienen en total:\", numImagenes, \"imágenes\")\n",
        "print(digits.images[100]) # Ver su representación en pixeles\n",
        "print(\"el label original de la matriz es: {}\".format(digits.target[100]))\n",
        "\n"
      ],
      "execution_count": null,
      "outputs": [
        {
          "output_type": "stream",
          "name": "stdout",
          "text": [
            "\n",
            "Se tienen en total: 1797 imágenes\n",
            "[[ 0.  0.  0.  2. 13.  0.  0.  0.]\n",
            " [ 0.  0.  0.  8. 15.  0.  0.  0.]\n",
            " [ 0.  0.  5. 16.  5.  2.  0.  0.]\n",
            " [ 0.  0. 15. 12.  1. 16.  4.  0.]\n",
            " [ 0.  4. 16.  2.  9. 16.  8.  0.]\n",
            " [ 0.  0. 10. 14. 16. 16.  4.  0.]\n",
            " [ 0.  0.  0.  0. 13.  8.  0.  0.]\n",
            " [ 0.  0.  0.  0. 13.  6.  0.  0.]]\n",
            "el label original de la matriz es: 4\n"
          ]
        },
        {
          "output_type": "display_data",
          "data": {
            "text/plain": [
              "<Figure size 432x288 with 0 Axes>"
            ]
          },
          "metadata": {}
        },
        {
          "output_type": "display_data",
          "data": {
            "image/png": "[encoded data removed]",
            "text/plain": [
              "<Figure size 288x288 with 1 Axes>"
            ]
          },
          "metadata": {
            "needs_background": "light"
          }
        }
      ]
    },
    {
      "cell_type": "markdown",
      "metadata": {
        "id": "h8a6ab3vKlHC"
      },
      "source": [
        "**Ejercicio 6.**\n",
        "\n",
        "Describa la lógica (en una celda markdown) para la implementación del algoritmo que permita detectar los dígitos **1** y **5** del conjunto de datos. <label style=\"color:green\"> Proponga una solución </label>"
      ]
    },
    {
      "cell_type": "markdown",
      "metadata": {
        "id": "ZUCu3nyYX1Y4"
      },
      "source": [
        "De los 1797 datos, se escogen 718 para el número 1 y 5\n",
        "De esos 718 datos, se dividen en un 70% y un 30% para el training y el testing, respectivamente\n",
        "\n",
        "70% -> 512 <br>\n",
        "30% -> 206\n",
        "\n",
        "Buscamos dentro del diccionario, la key de 'data' para identificar que números corresponden al 1 o al 5\n"
      ]
    },
    {
      "cell_type": "code",
      "metadata": {
        "colab": {
          "base_uri": "https://localhost:8080/"
        },
        "id": "ui1YC42HjIXL",
        "outputId": "c573a1d2-c888-421e-e58f-1da8a6d25cb0"
      },
      "source": [
        "from numpy.lib.function_base import append\n",
        "from random import randrange\n",
        "one_array = []\n",
        "for i in range (718):\n",
        "  one_array.append(randrange(1797))\n",
        "#print(one_array)\n",
        "\n",
        "one_array1 = []\n",
        "for i in range (len(one_array)):\n",
        "  image = digits.target[one_array[i]]\n",
        "  if(image == 1):\n",
        "    one_array1.append(one_array[i])\n",
        "print(one_array1)"
      ],
      "execution_count": null,
      "outputs": [
        {
          "output_type": "stream",
          "name": "stdout",
          "text": [
            "[998, 1483, 1346, 957, 1492, 1499, 271, 99, 891, 1061, 1779, 848, 772, 706, 992, 216, 319, 1179, 789, 1734, 440, 1559, 1330, 1530, 725, 1229, 545, 188, 1257, 151, 846, 846, 1558, 127, 1152, 1758, 1194, 658, 160, 114, 1163, 1609, 542, 917, 107, 900, 472, 713, 1505, 1669, 943, 139, 1020, 216, 1521, 385, 1776, 1040, 396, 441, 601, 1233, 688, 483, 447, 1328, 670, 862, 1757, 36, 1257, 483, 1336, 395, 907, 1780, 1712, 94, 1581, 1160, 998, 661, 698, 1688, 679, 244, 880, 1585, 188, 919, 1601, 774, 1477, 160, 1630, 704, 1638, 166, 680, 1774, 1022, 1334, 905, 1061, 1586, 1393, 1178, 1749, 1614, 647, 853, 1621, 1591, 1335, 679, 195, 115, 1207, 420, 621, 1649, 758, 537, 358, 1411, 491, 375, 1572, 1767, 457, 856, 204, 952, 742, 1479, 322, 760, 898, 449, 1023, 960, 800, 1679, 885, 645, 985, 354, 686, 1432, 1578, 1793, 206, 714, 1745, 256, 481, 1705, 1619, 590, 310, 1792, 1197, 854, 1385, 154, 276, 671, 1107, 677, 438, 1715, 1446, 117, 1345, 1564, 1577, 1145, 1551, 71, 1638, 357, 735, 1070, 77, 1032, 1661, 1060, 1606, 1410, 1288, 1342, 1759, 872, 900, 1481, 991, 1392, 405, 1696, 503, 570, 1068, 978, 1353, 1043, 357, 600, 935, 1229, 1084, 1138, 635, 541, 342, 912, 865, 286, 1374, 1468, 1382, 1669, 1661, 1449, 333, 310, 1425, 41, 1386, 812, 820, 307, 525, 357, 802, 429, 1136, 519, 1790, 970, 1497, 656, 126, 1775, 790, 81, 1159, 1633, 164, 1039, 1350, 1273, 1792, 1083, 204, 726, 554, 1631, 456, 879, 335, 1694, 1210, 793, 1671, 1145, 762, 1677, 115, 1713, 481, 150, 23, 726, 1333, 956, 920, 1231, 1704, 1520, 289, 1316, 1412, 1255, 1553, 57, 391, 641, 643, 1542, 1007, 1394, 1501, 387, 1683, 143, 288, 818, 329, 1252, 1347, 570, 603, 493, 1540, 974, 1279, 728, 268, 1685, 25, 1125, 1036, 815, 357, 657, 202, 286, 702, 490, 949, 201, 532, 637, 392, 132, 865, 256, 259, 1104, 411, 1187, 885, 1614, 1612, 768, 979, 1672, 78, 1145, 1064, 23, 1334, 882, 1647, 390, 350, 190, 805, 178, 730, 1435, 1765, 1408, 1011, 1169, 44, 287, 1251, 1482, 1674, 663, 1167, 1299, 60, 1383, 1079, 1096, 347, 594, 3, 266, 250, 1372, 1648, 1323, 1084, 1390, 930, 1499, 202, 453, 1348, 778, 807, 1210, 899, 169, 589, 249, 410, 1179, 271, 875, 1550, 1729, 1716, 1277, 1149, 581, 464, 444, 903, 1514, 1437, 971, 451, 609, 779, 1123, 1559, 1752, 1415, 1528, 445, 1561, 865, 1556, 1334, 1744, 1599, 16, 977, 1252, 831, 1351, 771, 1638, 1586, 1483, 534, 551, 197, 414, 537, 1618, 852, 803, 1175, 138, 1134, 29, 207, 436, 1693, 330, 537, 906, 679, 1259, 1415, 78, 205, 1119, 181, 83, 1162, 846, 46, 977, 1064, 1095, 1617, 79, 403, 458, 396, 1711, 482, 794, 1520, 1441, 1303, 460, 1153, 1671, 1738, 507, 1191, 1644, 1689, 680, 101, 740, 761, 985, 856, 714, 1300, 73, 94, 863, 1087, 533, 1178, 162, 1150, 296, 1229, 644, 489, 196, 325, 1768, 685, 677, 1037, 1639, 798, 637, 1596, 1084, 339, 326, 481, 461, 480, 171, 901, 1727, 628, 1526, 788, 880, 1729, 1353, 882, 7, 1345, 767, 276, 281, 276, 1372, 1503, 287, 211, 691, 303, 292, 297, 1132, 809, 547, 224, 397, 1253, 763, 674, 865, 327, 598, 1657, 13, 532, 466, 1671, 1227, 1050, 1445, 1775, 762, 1653, 160, 1321, 585, 1487, 426, 698, 1486, 1027, 1095, 763, 1717, 1287, 512, 983, 1055, 946, 958, 59, 1622, 1324, 620, 612, 575, 1371, 1511, 1381, 1603, 109, 681, 1678, 313, 1612, 964, 225, 1410, 1395, 1123, 1639, 1504, 869, 960, 976, 1465, 287, 55, 1667, 918, 142, 731, 1217, 671, 606, 1143, 256, 257, 234, 248, 28, 594, 1279, 1337, 183, 877, 142, 658, 1624, 326, 252, 953, 511, 166, 1435, 1511, 1741, 889, 548, 45, 950, 4, 95, 1469, 35, 1185, 1531, 1704, 11, 25, 79, 1017, 871, 1215, 1758, 1108, 1437, 574, 171, 705, 1707, 70, 1177, 1186, 975, 866, 80, 1665, 860, 818, 1064, 877, 1086, 727, 78, 318, 1488, 1033, 942, 1431, 419, 1524, 989, 457, 619, 1750, 837, 723, 139, 281, 861, 1207, 1538, 675, 469, 1043, 908, 1731, 1480, 1762, 555, 1597, 522, 1268, 1016, 996, 1140, 759, 862, 469, 1349, 873, 1594, 1760, 457, 788, 1643, 1073, 1626]\n",
            "[99, 151, 846, 846, 107, 1505, 1040, 601, 688, 1757, 1688, 1585, 1774, 1334, 1178, 647, 1621, 537, 856, 952, 1107, 1564, 1288, 991, 1386, 1083, 726, 1631, 456, 726, 1394, 387, 818, 493, 657, 702, 1334, 1372, 1648, 875, 1514, 609, 1752, 1556, 1334, 1599, 537, 1134, 537, 906, 846, 856, 1178, 326, 1372, 303, 397, 466, 1227, 1050, 958, 1678, 869, 731, 606, 257, 326, 11, 70, 866, 80, 818, 861, 1760, 1626]\n"
          ]
        }
      ]
    },
    {
      "cell_type": "code",
      "metadata": {
        "id": "HSwymxjZYS-m",
        "colab": {
          "base_uri": "https://localhost:8080/"
        },
        "outputId": "9da79eac-47f7-438d-ea0d-36f30e9073a2"
      },
      "source": [
        "five_array = []\n",
        "for i in range (718):\n",
        "  five_array.append(randrange(1797))\n",
        "print(five_array)\n",
        "\n",
        "five_array1 = []\n",
        "for i in range (len(five_array)):\n",
        "  image = digits.target[five_array[i]]\n",
        "  if(image == 5):\n",
        "    five_array1.append(five_array[i])\n",
        "print(five_array1)"
      ],
      "execution_count": null,
      "outputs": [
        {
          "output_type": "stream",
          "name": "stdout",
          "text": [
            "[559, 480, 420, 1182, 698, 1345, 1014, 1272, 485, 1542, 1106, 671, 1433, 345, 1182, 1575, 1117, 126, 674, 1343, 601, 1537, 925, 1785, 275, 110, 720, 1745, 360, 608, 1463, 426, 1369, 121, 106, 707, 1677, 1492, 1039, 1344, 1117, 907, 787, 1305, 1643, 1376, 1395, 1056, 207, 160, 1552, 1470, 1688, 1131, 1776, 1770, 1135, 565, 1234, 480, 760, 1679, 1265, 241, 374, 1696, 1530, 1380, 1310, 1357, 1397, 378, 1400, 23, 108, 445, 1015, 1430, 1281, 947, 1397, 167, 256, 6, 588, 312, 786, 1701, 136, 1792, 1362, 517, 1259, 25, 1585, 1155, 1147, 1745, 155, 919, 468, 1445, 1252, 1039, 916, 814, 407, 976, 673, 1624, 1422, 1130, 1650, 1314, 1247, 229, 1497, 667, 1384, 1781, 1302, 1394, 1481, 1683, 1457, 1429, 405, 1463, 1780, 1602, 406, 1352, 1658, 1078, 207, 1780, 1743, 1411, 260, 835, 275, 663, 885, 35, 760, 7, 1550, 483, 262, 386, 442, 107, 945, 966, 618, 733, 665, 1103, 772, 1429, 1348, 1050, 570, 1360, 672, 1780, 1466, 1650, 1222, 1162, 1434, 813, 1700, 613, 1379, 670, 496, 857, 404, 814, 1321, 904, 301, 1193, 1153, 1749, 885, 1002, 1408, 515, 210, 1413, 1669, 135, 1026, 1207, 67, 699, 761, 1467, 1200, 746, 569, 1405, 147, 1267, 744, 1061, 410, 228, 101, 885, 689, 1551, 728, 1272, 316, 1369, 737, 1310, 1699, 740, 573, 46, 1353, 1530, 1520, 1380, 796, 58, 54, 839, 1651, 1168, 1649, 1707, 1036, 1039, 294, 29, 437, 74, 853, 1196, 531, 221, 1193, 1639, 1777, 1212, 1765, 1734, 1524, 188, 1207, 715, 1064, 674, 317, 168, 1299, 1783, 595, 1071, 354, 623, 1564, 1564, 384, 668, 715, 1796, 1462, 1185, 1546, 294, 707, 1163, 718, 1129, 1123, 18, 104, 1438, 706, 648, 200, 613, 608, 1792, 312, 40, 1131, 27, 1359, 602, 1292, 650, 1253, 700, 918, 46, 1113, 1007, 199, 1247, 698, 224, 1415, 1405, 1172, 1250, 1112, 1749, 1753, 1518, 166, 1543, 1540, 1390, 1405, 1678, 506, 546, 1258, 1733, 661, 516, 42, 1443, 1400, 1706, 1677, 828, 474, 679, 155, 595, 336, 421, 282, 92, 1401, 1095, 21, 384, 755, 535, 382, 1036, 1143, 851, 1410, 1466, 868, 507, 909, 1115, 526, 698, 259, 199, 217, 197, 714, 94, 1689, 890, 505, 436, 779, 1339, 823, 209, 255, 1134, 837, 81, 1396, 319, 1019, 1579, 1040, 1143, 941, 1147, 1024, 930, 524, 801, 1501, 611, 1392, 1410, 596, 265, 160, 828, 94, 1660, 1762, 1142, 1403, 697, 1221, 731, 269, 1584, 1154, 809, 403, 53, 1458, 909, 350, 930, 1726, 831, 1346, 1511, 1111, 1357, 1590, 1735, 713, 1072, 1465, 928, 1554, 1176, 806, 312, 915, 1227, 684, 1564, 141, 280, 1675, 1268, 685, 1717, 844, 711, 1599, 1563, 1339, 120, 539, 934, 218, 1402, 618, 189, 1681, 1456, 993, 1652, 1060, 1593, 976, 1526, 918, 1633, 1623, 964, 217, 1268, 579, 1296, 958, 1272, 1303, 1266, 72, 1110, 570, 1756, 1305, 1044, 1350, 139, 623, 1050, 33, 804, 1134, 1249, 103, 314, 1278, 1683, 1658, 944, 1025, 439, 146, 1638, 974, 1720, 906, 211, 814, 457, 755, 1075, 904, 940, 453, 769, 115, 429, 438, 754, 1187, 167, 14, 927, 1432, 1501, 491, 1757, 22, 1649, 1405, 891, 1788, 946, 620, 1590, 654, 467, 1545, 1692, 1767, 1734, 1115, 587, 711, 357, 253, 668, 117, 876, 1687, 1466, 849, 406, 23, 783, 897, 1334, 1777, 26, 1710, 387, 1668, 596, 753, 685, 350, 1551, 1242, 1521, 110, 491, 1710, 105, 1116, 1155, 621, 1411, 1037, 1399, 1399, 1578, 1736, 1595, 618, 43, 865, 1350, 281, 933, 980, 1163, 868, 876, 76, 1329, 1786, 1619, 198, 125, 362, 927, 42, 20, 1442, 223, 826, 943, 128, 319, 1360, 1472, 1675, 245, 341, 798, 118, 315, 1124, 832, 1174, 1398, 1155, 1610, 585, 202, 132, 208, 1111, 253, 1536, 446, 1217, 242, 318, 953, 1344, 262, 335, 1509, 1295, 1354, 335, 1556, 59, 1244, 1343, 1625, 1717, 86, 1216, 17, 1665, 518, 1382, 909, 747, 140, 1551, 1193, 373, 1255, 1208, 910, 695, 799, 819, 433, 94, 526, 424, 546, 701, 103, 402, 1783, 1673, 635, 1116, 654, 1250, 1514, 1703, 691, 1079, 729, 385, 716, 559, 1417, 855, 266, 1727, 930, 112, 4, 771, 303, 641, 5, 885, 381, 1250, 1242, 1124, 537, 1765, 1221, 1487, 1632, 66, 1692, 998, 820, 1776, 1233, 660, 1170, 212, 1355, 1460, 1329, 454, 78]\n",
            "[1182, 671, 1182, 1575, 720, 1643, 1776, 1430, 1259, 25, 1147, 155, 976, 1650, 1302, 885, 35, 1550, 618, 1650, 1162, 1700, 885, 135, 1061, 885, 1699, 46, 74, 531, 1524, 1064, 1129, 1292, 46, 1172, 506, 661, 679, 155, 421, 755, 1396, 1147, 930, 801, 809, 930, 120, 618, 976, 1266, 1044, 33, 457, 755, 1075, 940, 1692, 587, 117, 1578, 618, 281, 245, 373, 910, 930, 5, 885, 1692, 1776]\n"
          ]
        }
      ]
    }
  ]
}