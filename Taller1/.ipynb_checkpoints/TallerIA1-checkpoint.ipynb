{
 "cells": [
  {
   "cell_type": "markdown",
   "metadata": {
    "id": "8dNFH5zqAT8N"
   },
   "source": [
    "# **Taller 1 IA**\n",
    "Integrantes\n",
    "1. Luisa Fernanda Quintero Fernandez **Grupo: Miercoles 7-9pm**\n",
    "2. Manuel Balanta Quintero **Grupo: Miercoles 7-9pm**\n",
    "3. Yimar David Tamayo **Grupo: Miercoles 7-9pm**"
   ]
  },
  {
   "cell_type": "markdown",
   "metadata": {
    "id": "TLe2tC2eA4NB"
   },
   "source": [
    "__1. Print Hello World__"
   ]
  },
  {
   "cell_type": "code",
   "execution_count": null,
   "metadata": {
    "colab": {
     "base_uri": "https://localhost:8080/"
    },
    "id": "W0_1fl0VAOjP",
    "outputId": "b9a4c18c-ad86-4dd0-fe81-483315e69b1f"
   },
   "outputs": [
    {
     "name": "stdout",
     "output_type": "stream",
     "text": [
      "Hello World\n"
     ]
    }
   ],
   "source": [
    "print(\"Hello World\")"
   ]
  },
  {
   "cell_type": "markdown",
   "metadata": {
    "id": "Qx80ZPA2BAPF"
   },
   "source": [
    "__2. Crear Variable__\n",
    "\n"
   ]
  },
  {
   "cell_type": "code",
   "execution_count": null,
   "metadata": {
    "id": "UcYTjgoKA-6-"
   },
   "outputs": [],
   "source": [
    "variable= \"hello world\""
   ]
  },
  {
   "cell_type": "markdown",
   "metadata": {
    "id": "YjZSLWX8BAzc"
   },
   "source": [
    "__3. Imprimir Variable__"
   ]
  },
  {
   "cell_type": "code",
   "execution_count": null,
   "metadata": {
    "colab": {
     "base_uri": "https://localhost:8080/"
    },
    "id": "38x2wK1mA_Cg",
    "outputId": "0ac080e5-d4d2-4156-b933-ef43b0aa6b61"
   },
   "outputs": [
    {
     "name": "stdout",
     "output_type": "stream",
     "text": [
      "hello world\n"
     ]
    }
   ],
   "source": [
    "print(variable)"
   ]
  },
  {
   "cell_type": "markdown",
   "metadata": {
    "id": "YKeldw0HCn2x"
   },
   "source": [
    "__4. Borrar palabra__"
   ]
  },
  {
   "cell_type": "code",
   "execution_count": null,
   "metadata": {
    "colab": {
     "base_uri": "https://localhost:8080/",
     "height": 35
    },
    "id": "XsZZJvqNA_GG",
    "outputId": "91fa4897-ad6d-4187-fbe4-21867c1c3db5"
   },
   "outputs": [
    {
     "data": {
      "application/vnd.google.colaboratory.intrinsic+json": {
       "type": "string"
      },
      "text/plain": [
       "'hello'"
      ]
     },
     "execution_count": 5,
     "metadata": {},
     "output_type": "execute_result"
    }
   ],
   "source": [
    "variable.replace(\" world\", \"\")"
   ]
  },
  {
   "cell_type": "markdown",
   "metadata": {
    "id": "ndD9k2UKCn9k"
   },
   "source": [
    "__5. Lista de números del 1 al 10__"
   ]
  },
  {
   "cell_type": "code",
   "execution_count": null,
   "metadata": {
    "id": "FlK1nV1jCnMn"
   },
   "outputs": [],
   "source": [
    "import numpy as np"
   ]
  },
  {
   "cell_type": "code",
   "execution_count": null,
   "metadata": {
    "colab": {
     "base_uri": "https://localhost:8080/"
    },
    "id": "Cehfz_vXCnTq",
    "outputId": "aa37ac11-6368-4afe-f393-c9b4e6f4d70f"
   },
   "outputs": [
    {
     "name": "stdout",
     "output_type": "stream",
     "text": [
      "[ 1  3  5  7  9 11 13 15 17 19]\n"
     ]
    }
   ],
   "source": [
    "n_list= np.arange(1, 21, 2)\n",
    "print(n_list)"
   ]
  },
  {
   "cell_type": "markdown",
   "metadata": {
    "id": "QJZnkzwwHJhp"
   },
   "source": [
    "__6. Archivo de Python__"
   ]
  },
  {
   "cell_type": "code",
   "execution_count": 22,
   "metadata": {
    "id": "LTkeLgrEHS6p"
   },
   "outputs": [],
   "source": [
    "import Ejercicio6 as e6"
   ]
  },
  {
   "cell_type": "code",
   "execution_count": 23,
   "metadata": {
    "id": "FzKTdle_CnXh"
   },
   "outputs": [],
   "source": [
    "listNum= [1,2,4,6]\n",
    "e= 2"
   ]
  },
  {
   "cell_type": "code",
   "execution_count": 24,
   "metadata": {
    "id": "4tRaKTkIOgzC"
   },
   "outputs": [
    {
     "name": "stdout",
     "output_type": "stream",
     "text": [
      "1\n",
      "4\n",
      "16\n",
      "36\n"
     ]
    }
   ],
   "source": [
    "e6.exponential(listNum, e)"
   ]
  },
  {
   "cell_type": "markdown",
   "metadata": {
    "id": "SwLbh4MLxujM"
   },
   "source": [
    "__7. Diccionario__"
   ]
  },
  {
   "cell_type": "code",
   "execution_count": 2,
   "metadata": {
    "colab": {
     "base_uri": "https://localhost:8080/"
    },
    "id": "g56FVZCVOWce",
    "outputId": "370eb189-db58-4e8f-fa1c-2103808357e7"
   },
   "outputs": [
    {
     "data": {
      "text/plain": [
       "{'variableDos': ['1', 'a', '?'], 'variableUno': [1, 2, 3, 4]}"
      ]
     },
     "execution_count": 2,
     "metadata": {},
     "output_type": "execute_result"
    }
   ],
   "source": [
    "diccionario= {'variableUno': [1,2,3,4], 'variableDos': [\"1\",\"a\",\"?\"]}\n",
    "diccionario"
   ]
  },
  {
   "cell_type": "code",
   "execution_count": 3,
   "metadata": {
    "colab": {
     "base_uri": "https://localhost:8080/"
    },
    "id": "lWtEIPTsdjRr",
    "outputId": "d40e0e43-f070-4056-f712-1ad92e757454"
   },
   "outputs": [
    {
     "data": {
      "text/plain": [
       "dict_keys(['variableUno', 'variableDos'])"
      ]
     },
     "execution_count": 3,
     "metadata": {},
     "output_type": "execute_result"
    }
   ],
   "source": [
    "diccionario.keys()"
   ]
  },
  {
   "cell_type": "code",
   "execution_count": 4,
   "metadata": {
    "colab": {
     "base_uri": "https://localhost:8080/"
    },
    "id": "L2Kt7vfidljy",
    "outputId": "36f0076a-db9d-47c8-d12d-b66d5f7f3f6a"
   },
   "outputs": [
    {
     "data": {
      "text/plain": [
       "dict_items([('variableUno', [1, 2, 3, 4]), ('variableDos', ['1', 'a', '?'])])"
      ]
     },
     "execution_count": 4,
     "metadata": {},
     "output_type": "execute_result"
    }
   ],
   "source": [
    "diccionario.items()"
   ]
  },
  {
   "cell_type": "markdown",
   "metadata": {
    "id": "QBoBsP3JOdBy"
   },
   "source": [
    "__8. Cambiar Texto__"
   ]
  },
  {
   "cell_type": "code",
   "execution_count": null,
   "metadata": {
    "id": "7v_v0XjDOkKQ"
   },
   "outputs": [],
   "source": [
    "s= \"SPAM\""
   ]
  },
  {
   "cell_type": "code",
   "execution_count": null,
   "metadata": {
    "colab": {
     "base_uri": "https://localhost:8080/",
     "height": 35
    },
    "id": "J8lnO56GP74l",
    "outputId": "fbca6a4e-727e-4d5c-d63a-29c02c0e32fa"
   },
   "outputs": [
    {
     "data": {
      "application/vnd.google.colaboratory.intrinsic+json": {
       "type": "string"
      },
      "text/plain": [
       "'szam'"
      ]
     },
     "execution_count": 38,
     "metadata": {},
     "output_type": "execute_result"
    }
   ],
   "source": [
    "s.replace(\"P\", \"Z\")"
   ]
  },
  {
   "cell_type": "markdown",
   "metadata": {
    "id": "JgvXNBCmxibU"
   },
   "source": [
    "__9. Perimetro rectangulo__"
   ]
  },
  {
   "cell_type": "code",
   "execution_count": 7,
   "metadata": {
    "colab": {
     "base_uri": "https://localhost:8080/"
    },
    "id": "MmMMwzdKxsFv",
    "outputId": "2e21c96c-46e6-4c6a-9be0-4cb6a316d2dc"
   },
   "outputs": [
    {
     "name": "stdout",
     "output_type": "stream",
     "text": [
      "10\n",
      "6\n",
      "32.0\n"
     ]
    }
   ],
   "source": [
    "def calPerimetro(x,y):\n",
    "  perimetro= 2*(x+y)\n",
    "  return perimetro\n",
    "\n",
    "num1= float(input())\n",
    "num2= float(input())\n",
    "perimetro= calPerimetro(num1, num2)\n",
    "print(perimetro)"
   ]
  },
  {
   "cell_type": "markdown",
   "metadata": {
    "id": "BBQEy4OqhIFf"
   },
   "source": [
    "__10. Calcular IMC a una persona__"
   ]
  },
  {
   "cell_type": "code",
   "execution_count": 57,
   "metadata": {},
   "outputs": [
    {
     "name": "stdout",
     "output_type": "stream",
     "text": [
      "['Amanda', 1.58, 60, 24.03]\n",
      "['Diego', 1.78, 70, 22.09]\n",
      "['Evan', 1.8, 60, 18.52]\n",
      "['Valery', 1.65, 54, 19.83]\n",
      "['Diana', 1.68, 49, 17.36]\n"
     ]
    }
   ],
   "source": [
    "f = open(\"people.txt\",\"w\")\n",
    "\n",
    "class Person:\n",
    "    def __init__(self, name, height, weight):\n",
    "        self.name= name\n",
    "        self.height= height\n",
    "        self.weight= weight\n",
    "\n",
    "    def IMCPerson(self):\n",
    "        imc= self.weight/(self.height**2)\n",
    "        return imc\n",
    "\n",
    "people= []\n",
    "\n",
    "people.append(Person(\"Amanda\", 1.58, 60))\n",
    "people.append(Person(\"Diego\", 1.78, 70))\n",
    "people.append(Person(\"Evan\", 1.80, 60))\n",
    "people.append(Person(\"Valery\", 1.65, 54))\n",
    "people.append(Person(\"Diana\", 1.68, 49))\n",
    "\n",
    "\n",
    "for i, p in enumerate(people):\n",
    "    lines=[p.name, p.height, p.weight, round(p.IMCPerson(),2)]\n",
    "    print(lines)\n",
    "    f.write(str(lines))\n",
    "f.close()"
   ]
  },
  {
   "cell_type": "markdown",
   "metadata": {
    "id": "WsGOsFAmhmCU"
   },
   "source": [
    "__11. Paquete request__"
   ]
  },
  {
   "cell_type": "code",
   "execution_count": 1,
   "metadata": {
    "colab": {
     "base_uri": "https://localhost:8080/"
    },
    "id": "m5QO_srXhrlV",
    "outputId": "715269a7-0b11-4c88-920a-7433cbd77b17"
   },
   "outputs": [
    {
     "data": {
      "text/plain": [
       "824"
      ]
     },
     "execution_count": 1,
     "metadata": {},
     "output_type": "execute_result"
    }
   ],
   "source": [
    "import requests\n",
    "\n",
    "url = 'https://drive.google.com/u/0/uc?id=1-kc_ORVnu0mmiB_dhdZfjFwJqJ2McDp8&export=download'\n",
    "r = requests.get(url, allow_redirects=True)\n",
    "open('pr.html', 'wb').write(r.content)"
   ]
  },
  {
   "cell_type": "markdown",
   "metadata": {
    "id": "UBJ6_XBPhsRR"
   },
   "source": [
    "__12. Ejectuar comando de consola__"
   ]
  },
  {
   "cell_type": "code",
   "execution_count": 43,
   "metadata": {
    "id": "hsuPuFTnhruY"
   },
   "outputs": [
    {
     "name": "stdout",
     "output_type": "stream",
     "text": [
      "C:\\\n"
     ]
    }
   ],
   "source": [
    "%cd .."
   ]
  },
  {
   "cell_type": "code",
   "execution_count": 44,
   "metadata": {},
   "outputs": [
    {
     "name": "stdout",
     "output_type": "stream",
     "text": [
      " El volumen de la unidad C es Fernanda\n",
      " El número de serie del volumen es: 2E23-4F9A\n",
      "\n",
      " Directorio de C:\\\n",
      "\n",
      "25/06/2020  07:48 p. m.    <DIR>          .jlg.uninstall\n",
      "13/04/2021  03:42 p. m.    <DIR>          altera_lite\n",
      "13/07/2020  02:22 p. m.    <DIR>          Drivers\n",
      "01/12/2020  03:06 p. m.    <DIR>          Juegos\n",
      "07/12/2019  04:14 a. m.    <DIR>          PerfLogs\n",
      "23/08/2021  10:39 p. m.    <DIR>          Program Files\n",
      "26/05/2021  09:46 p. m.    <DIR>          Program Files (x86)\n",
      "25/06/2020  07:55 p. m.    <DIR>          Riot Games\n",
      "30/06/2021  05:22 p. m.    <DIR>          Users\n",
      "17/03/2020  12:48 p. m.    <DIR>          VpingsResources\n",
      "14/08/2021  10:22 a. m.    <DIR>          Windows\n",
      "               0 archivos              0 bytes\n",
      "              11 dirs  136.903.143.424 bytes libres\n"
     ]
    }
   ],
   "source": [
    "%ls"
   ]
  },
  {
   "cell_type": "markdown",
   "metadata": {
    "id": "_hZDbWOciY_5"
   },
   "source": [
    "__13. Despliegue de soluciones web__"
   ]
  },
  {
   "cell_type": "code",
   "execution_count": 1,
   "metadata": {},
   "outputs": [],
   "source": [
    "!cd C://Users//Ferna//webSolutions"
   ]
  },
  {
   "cell_type": "code",
   "execution_count": null,
   "metadata": {},
   "outputs": [],
   "source": [
    "! python -m http.server 1309"
   ]
  },
  {
   "cell_type": "markdown",
   "metadata": {},
   "source": [
    "<img src=\"Ejercicio13.png\" width=900 height=900 />"
   ]
  },
  {
   "cell_type": "code",
   "execution_count": null,
   "metadata": {},
   "outputs": [],
   "source": []
  }
 ],
 "metadata": {
  "colab": {
   "collapsed_sections": [],
   "name": "TallerIA.ipynb",
   "provenance": []
  },
  "kernelspec": {
   "display_name": "Python 3",
   "language": "python",
   "name": "python3"
  },
  "language_info": {
   "codemirror_mode": {
    "name": "ipython",
    "version": 3
   },
   "file_extension": ".py",
   "mimetype": "text/x-python",
   "name": "python",
   "nbconvert_exporter": "python",
   "pygments_lexer": "ipython3",
   "version": "3.8.8"
  }
 },
 "nbformat": 4,
 "nbformat_minor": 1
}
